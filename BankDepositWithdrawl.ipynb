{
 "cells": [
  {
   "cell_type": "code",
   "execution_count": 76,
   "metadata": {},
   "outputs": [],
   "source": [
    "class checkBalance:\n",
    "    def __init__(self,balance):\n",
    "        self.balance = balance\n",
    "        \n",
    "        if self.balance < 0:\n",
    "            print(f\"your balance is low {self.balance}\")    \n",
    "        return\n",
    " ############################################ ############################################\n",
    " ############################################ ############################################\n",
    "class Account(checkBalance):    \n",
    "    \n",
    "    ############################################ \n",
    "    def __init__(self,owner,balance):\n",
    "        self.owner = owner\n",
    "        self.balance = balance\n",
    "        \n",
    "        checkBalance(self.balance) \n",
    "            \n",
    "    ############################################\n",
    "    def Deposit(self,depositAmount=0):        \n",
    "        self.depositAmount = depositAmount\n",
    "        \n",
    "        checkBalance(self.balance)  \n",
    "        \n",
    "        if self.depositAmount < 0:\n",
    "            print('Please deposit correct amount')            \n",
    "        else:\n",
    "            self.balance = self.balance + self.depositAmount  \n",
    "            print(f\"your account balance is {self.balance}\")\n",
    "            \n",
    "        return\n",
    "     ############################################\n",
    "    def Withdraw(self,withdrawAmount=0):\n",
    "        \n",
    "        checkBalance(self.balance)\n",
    "        \n",
    "        self.withdrawAmount = withdrawAmount\n",
    "        if (self.withdrawAmount < 0):\n",
    "            print('Please deposit correct amount')            \n",
    "        elif (self.balance - self.withdrawAmount)<0:\n",
    "            print('unavailable amounts')                        \n",
    "        else:\n",
    "            self.balance = self.balance - self.withdrawAmount\n",
    "            print(f\"your account balance is {self.balance}\")                \n",
    "      ############################################\n"
   ]
  },
  {
   "cell_type": "code",
   "execution_count": 77,
   "metadata": {},
   "outputs": [],
   "source": [
    "saiAccount = Account('sai',100)\n"
   ]
  },
  {
   "cell_type": "code",
   "execution_count": 78,
   "metadata": {},
   "outputs": [
    {
     "name": "stdout",
     "output_type": "stream",
     "text": [
      "your account balance is 100\n"
     ]
    }
   ],
   "source": [
    "saiAccount.Deposit()\n"
   ]
  },
  {
   "cell_type": "code",
   "execution_count": 79,
   "metadata": {},
   "outputs": [
    {
     "name": "stdout",
     "output_type": "stream",
     "text": [
      "Please deposit correct amount\n"
     ]
    }
   ],
   "source": [
    "saiAccount.Deposit(-1)"
   ]
  },
  {
   "cell_type": "code",
   "execution_count": 80,
   "metadata": {},
   "outputs": [
    {
     "name": "stdout",
     "output_type": "stream",
     "text": [
      "your account balance is 100\n"
     ]
    }
   ],
   "source": [
    "saiAccount.Withdraw()"
   ]
  },
  {
   "cell_type": "code",
   "execution_count": 81,
   "metadata": {},
   "outputs": [
    {
     "name": "stdout",
     "output_type": "stream",
     "text": [
      "your account balance is 0\n"
     ]
    }
   ],
   "source": [
    "saiAccount.Withdraw(100)"
   ]
  },
  {
   "cell_type": "code",
   "execution_count": 82,
   "metadata": {},
   "outputs": [
    {
     "name": "stdout",
     "output_type": "stream",
     "text": [
      "unavailable amounts\n"
     ]
    }
   ],
   "source": [
    "saiAccount.Withdraw(100)"
   ]
  },
  {
   "cell_type": "code",
   "execution_count": 84,
   "metadata": {},
   "outputs": [],
   "source": [
    "saiAccount2 = Account('sai2',100)\n"
   ]
  },
  {
   "cell_type": "code",
   "execution_count": 85,
   "metadata": {},
   "outputs": [],
   "source": [
    "saiAccount2 = saiAccount\n"
   ]
  },
  {
   "cell_type": "code",
   "execution_count": 86,
   "metadata": {},
   "outputs": [
    {
     "data": {
      "text/plain": [
       "0"
      ]
     },
     "execution_count": 86,
     "metadata": {},
     "output_type": "execute_result"
    }
   ],
   "source": [
    "saiAccount2.balance"
   ]
  },
  {
   "cell_type": "code",
   "execution_count": 87,
   "metadata": {},
   "outputs": [
    {
     "name": "stdout",
     "output_type": "stream",
     "text": [
      "your account balance is 2000\n"
     ]
    }
   ],
   "source": [
    "saiAccount.Deposit(2000)"
   ]
  },
  {
   "cell_type": "code",
   "execution_count": 88,
   "metadata": {},
   "outputs": [
    {
     "data": {
      "text/plain": [
       "2000"
      ]
     },
     "execution_count": 88,
     "metadata": {},
     "output_type": "execute_result"
    }
   ],
   "source": [
    "saiAccount2.balance\n"
   ]
  },
  {
   "cell_type": "code",
   "execution_count": 90,
   "metadata": {},
   "outputs": [],
   "source": [
    "saiki = checkBalance(100)\n"
   ]
  },
  {
   "cell_type": "code",
   "execution_count": 91,
   "metadata": {},
   "outputs": [
    {
     "data": {
      "text/plain": [
       "100"
      ]
     },
     "execution_count": 91,
     "metadata": {},
     "output_type": "execute_result"
    }
   ],
   "source": [
    "saiki.balance\n"
   ]
  },
  {
   "cell_type": "code",
   "execution_count": null,
   "metadata": {},
   "outputs": [],
   "source": []
  },
  {
   "cell_type": "code",
   "execution_count": null,
   "metadata": {},
   "outputs": [],
   "source": []
  },
  {
   "cell_type": "code",
   "execution_count": null,
   "metadata": {},
   "outputs": [],
   "source": []
  },
  {
   "cell_type": "code",
   "execution_count": null,
   "metadata": {},
   "outputs": [],
   "source": []
  },
  {
   "cell_type": "code",
   "execution_count": null,
   "metadata": {},
   "outputs": [],
   "source": []
  },
  {
   "cell_type": "code",
   "execution_count": null,
   "metadata": {},
   "outputs": [],
   "source": []
  },
  {
   "cell_type": "code",
   "execution_count": null,
   "metadata": {},
   "outputs": [],
   "source": []
  },
  {
   "cell_type": "code",
   "execution_count": null,
   "metadata": {},
   "outputs": [],
   "source": []
  },
  {
   "cell_type": "code",
   "execution_count": null,
   "metadata": {},
   "outputs": [],
   "source": []
  }
 ],
 "metadata": {
  "kernelspec": {
   "display_name": "Python 3",
   "language": "python",
   "name": "python3"
  },
  "language_info": {
   "codemirror_mode": {
    "name": "ipython",
    "version": 3
   },
   "file_extension": ".py",
   "mimetype": "text/x-python",
   "name": "python",
   "nbconvert_exporter": "python",
   "pygments_lexer": "ipython3",
   "version": "3.7.1"
  }
 },
 "nbformat": 4,
 "nbformat_minor": 2
}
